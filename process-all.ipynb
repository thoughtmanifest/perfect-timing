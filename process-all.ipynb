{
 "cells": [
  {
   "cell_type": "code",
   "execution_count": 44,
   "metadata": {},
   "outputs": [],
   "source": [
    "import pandas as pd\n",
    "from pandas.io.json import json_normalize\n",
    "import numpy as np\n",
    "from sklearn.model_selection import train_test_split\n",
    "from sklearn.linear_model import LogisticRegression\n",
    "import json\n",
    "import s3fs"
   ]
  },
  {
   "cell_type": "code",
   "execution_count": 120,
   "metadata": {},
   "outputs": [],
   "source": [
    "def get_data():\n",
    "    fs = s3fs.S3FileSystem(anon=True)\n",
    "    data = []\n",
    "    with fs.open('s3://perfect.timing/grong-runs.almost-json', 'rb') as f:\n",
    "        for line in f:\n",
    "            data.append(json.loads(line))\n",
    "    return data"
   ]
  },
  {
   "cell_type": "code",
   "execution_count": 131,
   "metadata": {},
   "outputs": [],
   "source": [
    "data = get_data()"
   ]
  },
  {
   "cell_type": "code",
   "execution_count": 121,
   "metadata": {},
   "outputs": [
    {
     "data": {
      "text/plain": [
       "[{'fight_id': 2, 'predictions': [[30, 0.53], [60, 0.32], [90, 0.25]]}]"
      ]
     },
     "execution_count": 121,
     "metadata": {},
     "output_type": "execute_result"
    }
   ],
   "source": [
    "# XjpfnxGVvaM3CZgb.json\n",
    "[\n",
    "    {'fight_id': 2, 'predictions': [[30, .53], [60, .32], [90, 0.25]]}\n",
    "]"
   ]
  },
  {
   "cell_type": "code",
   "execution_count": 132,
   "metadata": {},
   "outputs": [],
   "source": [
    "def only_grong(training_data, v, raid_id):\n",
    "    if v and v['boss'] == 2263 and v['periods']:\n",
    "        for ps in v['periods']:\n",
    "            period = ps['ts-period']\n",
    "            ps['raid_id'] = raid_id\n",
    "            ps['kill'] = v['kill']\n",
    "            training_data.setdefault(period, [])\n",
    "            training_data[period].append(ps)"
   ]
  },
  {
   "cell_type": "code",
   "execution_count": 133,
   "metadata": {},
   "outputs": [],
   "source": [
    "def data_transform(data):\n",
    "    training_data = {}\n",
    "    single_case = {}\n",
    "    for d in data:\n",
    "        if d:\n",
    "            for raid_id, v in d.items():\n",
    "                if not raid_id.startswith('xqMN1ArjGvpXDLcz'):\n",
    "                    only_grong(training_data, v, raid_id)\n",
    "                else:\n",
    "                    only_grong(single_case, v, raid_id)\n",
    "    return training_data, single_case"
   ]
  },
  {
   "cell_type": "code",
   "execution_count": 134,
   "metadata": {},
   "outputs": [],
   "source": [
    "training_data, single_case = data_transform(data)"
   ]
  },
  {
   "cell_type": "code",
   "execution_count": null,
   "metadata": {},
   "outputs": [],
   "source": [
    "# xqMN1ArjGvpXDLcz.json\n",
    "{10: [[30, 0.4864382751041898],\n",
    "  [60, 0.5156320225239619],\n",
    "  [90, 0.004746332097930662],\n",
    "  [120, 0.0005584344248507168]],\n",
    " 8: [[30, 0.4740539229317621],\n",
    "  [60, 0.4174048033537797],\n",
    "  [90, 0.2566418667630769],\n",
    "  [120, 0.29307077931972425],\n",
    "  [150, 0.6438731477826377],\n",
    "  [180, 0.025086994655948467]],\n",
    " 13: [[30, 0.42920330117213873],\n",
    "  [60, 0.4293914636474287],\n",
    "  [90, 0.5954389490222433],\n",
    "  [120, 0.6185105349379931],\n",
    "  [150, 0.6671047712171181],\n",
    "  [180, 0.7217274821561459],\n",
    "  [210, 0.012486066360858597],\n",
    "  [240, 0.0016096308934100629]],\n",
    " 9: [[30, 0.37854993554880256],\n",
    "  [60, 0.4492429686694587],\n",
    "  [90, 0.688804702341058],\n",
    "  [120, 0.6940732047205519],\n",
    "  [150, 0.7255504571795206],\n",
    "  [180, 0.6882051889868604],\n",
    "  [210, 0.006059650525518832],\n",
    "  [240, 0.0025490794310735984]],\n",
    " 11: [[30, 0.4598978701418732],\n",
    "  [60, 0.5111605529336872],\n",
    "  [90, 0.5536743161115566],\n",
    "  [120, 0.5673377934967901],\n",
    "  [150, 0.2956018606911454],\n",
    "  [180, 0.003293664442476165]],\n",
    " 14: [[30, 0.41670080000910364],\n",
    "  [60, 0.45378689943937617],\n",
    "  [90, 0.4799345253478957],\n",
    "  [120, 0.48104525316241276],\n",
    "  [150, 0.42925826680638346],\n",
    "  [180, 0.5769215751184661],\n",
    "  [210, 0.8249744373870858],\n",
    "  [240, 0.9173063857087477],\n",
    "  [270, 0.9479688814866076],\n",
    "  [300, 0.9941063420793372]],\n",
    " 12: [[30, 0.3793245176157243],\n",
    "  [60, 0.3347207658043423],\n",
    "  [90, 0.024994679192818992],\n",
    "  [120, 0.002798971565707081]]}"
   ]
  },
  {
   "cell_type": "code",
   "execution_count": 138,
   "metadata": {},
   "outputs": [],
   "source": [
    "def train_test_score(training_data, single_case):\n",
    "    scores = {}\n",
    "    for p, v in training_data.items():\n",
    "        print(f'Running period: {p}')\n",
    "        df = pd.DataFrame.from_records(v)\n",
    "        x_train, x_test, y_train, y_test = train_test_split(\n",
    "            df.drop(columns=['kill', 'raid_id', 'period']),\n",
    "            df.kill,\n",
    "            stratify=df.kill)\n",
    "        lr = LogisticRegression()\n",
    "        try:\n",
    "            lr.fit(x_train, y_train)\n",
    "            records = single_case.get(p)\n",
    "            if records:\n",
    "                sdf = pd.DataFrame.from_records(records)\n",
    "                y_scores = [pr[1] for pr in lr.predict_proba(sdf.drop(columns=['kill', 'raid_id', 'period']))]\n",
    "                fight_tuples = list(zip(sdf.raid_id, y_scores))\n",
    "                for fid, prob in fight_tuples:\n",
    "                    fight_id = int(fid.split('-')[1])\n",
    "                    scores.setdefault(fight_id, [])\n",
    "                    scores[fight_id].append([p, prob])\n",
    "        except ValueError as ve:\n",
    "            print(f'Received {ve}')\n",
    "    return scores"
   ]
  },
  {
   "cell_type": "code",
   "execution_count": 140,
   "metadata": {},
   "outputs": [
    {
     "name": "stdout",
     "output_type": "stream",
     "text": [
      "Running period: 30\n",
      "Running period: 60\n",
      "Running period: 90\n",
      "Running period: 120\n",
      "Running period: 150\n",
      "Running period: 180\n",
      "Running period: 210\n"
     ]
    },
    {
     "name": "stderr",
     "output_type": "stream",
     "text": [
      "/opt/conda/lib/python3.6/site-packages/sklearn/linear_model/logistic.py:433: FutureWarning: Default solver will be changed to 'lbfgs' in 0.22. Specify a solver to silence this warning.\n",
      "  FutureWarning)\n",
      "/opt/conda/lib/python3.6/site-packages/sklearn/linear_model/logistic.py:433: FutureWarning: Default solver will be changed to 'lbfgs' in 0.22. Specify a solver to silence this warning.\n",
      "  FutureWarning)\n",
      "/opt/conda/lib/python3.6/site-packages/sklearn/linear_model/logistic.py:433: FutureWarning: Default solver will be changed to 'lbfgs' in 0.22. Specify a solver to silence this warning.\n",
      "  FutureWarning)\n",
      "/opt/conda/lib/python3.6/site-packages/sklearn/linear_model/logistic.py:433: FutureWarning: Default solver will be changed to 'lbfgs' in 0.22. Specify a solver to silence this warning.\n",
      "  FutureWarning)\n",
      "/opt/conda/lib/python3.6/site-packages/sklearn/linear_model/logistic.py:433: FutureWarning: Default solver will be changed to 'lbfgs' in 0.22. Specify a solver to silence this warning.\n",
      "  FutureWarning)\n",
      "/opt/conda/lib/python3.6/site-packages/sklearn/linear_model/logistic.py:433: FutureWarning: Default solver will be changed to 'lbfgs' in 0.22. Specify a solver to silence this warning.\n",
      "  FutureWarning)\n",
      "/opt/conda/lib/python3.6/site-packages/sklearn/linear_model/logistic.py:433: FutureWarning: Default solver will be changed to 'lbfgs' in 0.22. Specify a solver to silence this warning.\n",
      "  FutureWarning)\n"
     ]
    },
    {
     "name": "stdout",
     "output_type": "stream",
     "text": [
      "Running period: 240\n",
      "Running period: 270\n",
      "Running period: 300\n",
      "Running period: 330\n",
      "Running period: 360\n",
      "Running period: 390\n",
      "Running period: 420\n",
      "Received This solver needs samples of at least 2 classes in the data, but the data contains only one class: False\n"
     ]
    },
    {
     "name": "stderr",
     "output_type": "stream",
     "text": [
      "/opt/conda/lib/python3.6/site-packages/sklearn/linear_model/logistic.py:433: FutureWarning: Default solver will be changed to 'lbfgs' in 0.22. Specify a solver to silence this warning.\n",
      "  FutureWarning)\n",
      "/opt/conda/lib/python3.6/site-packages/sklearn/linear_model/logistic.py:433: FutureWarning: Default solver will be changed to 'lbfgs' in 0.22. Specify a solver to silence this warning.\n",
      "  FutureWarning)\n",
      "/opt/conda/lib/python3.6/site-packages/sklearn/linear_model/logistic.py:433: FutureWarning: Default solver will be changed to 'lbfgs' in 0.22. Specify a solver to silence this warning.\n",
      "  FutureWarning)\n",
      "/opt/conda/lib/python3.6/site-packages/sklearn/linear_model/logistic.py:433: FutureWarning: Default solver will be changed to 'lbfgs' in 0.22. Specify a solver to silence this warning.\n",
      "  FutureWarning)\n",
      "/opt/conda/lib/python3.6/site-packages/sklearn/linear_model/logistic.py:433: FutureWarning: Default solver will be changed to 'lbfgs' in 0.22. Specify a solver to silence this warning.\n",
      "  FutureWarning)\n",
      "/opt/conda/lib/python3.6/site-packages/sklearn/linear_model/logistic.py:433: FutureWarning: Default solver will be changed to 'lbfgs' in 0.22. Specify a solver to silence this warning.\n",
      "  FutureWarning)\n",
      "/opt/conda/lib/python3.6/site-packages/sklearn/linear_model/logistic.py:433: FutureWarning: Default solver will be changed to 'lbfgs' in 0.22. Specify a solver to silence this warning.\n",
      "  FutureWarning)\n"
     ]
    },
    {
     "data": {
      "text/plain": [
       "{10: [[30, 0.4864382751041898],\n",
       "  [60, 0.5156320225239619],\n",
       "  [90, 0.004746332097930662],\n",
       "  [120, 0.0005584344248507168]],\n",
       " 8: [[30, 0.4740539229317621],\n",
       "  [60, 0.4174048033537797],\n",
       "  [90, 0.2566418667630769],\n",
       "  [120, 0.29307077931972425],\n",
       "  [150, 0.6438731477826377],\n",
       "  [180, 0.025086994655948467]],\n",
       " 13: [[30, 0.42920330117213873],\n",
       "  [60, 0.4293914636474287],\n",
       "  [90, 0.5954389490222433],\n",
       "  [120, 0.6185105349379931],\n",
       "  [150, 0.6671047712171181],\n",
       "  [180, 0.7217274821561459],\n",
       "  [210, 0.012486066360858597],\n",
       "  [240, 0.0016096308934100629]],\n",
       " 9: [[30, 0.37854993554880256],\n",
       "  [60, 0.4492429686694587],\n",
       "  [90, 0.688804702341058],\n",
       "  [120, 0.6940732047205519],\n",
       "  [150, 0.7255504571795206],\n",
       "  [180, 0.6882051889868604],\n",
       "  [210, 0.006059650525518832],\n",
       "  [240, 0.0025490794310735984]],\n",
       " 11: [[30, 0.4598978701418732],\n",
       "  [60, 0.5111605529336872],\n",
       "  [90, 0.5536743161115566],\n",
       "  [120, 0.5673377934967901],\n",
       "  [150, 0.2956018606911454],\n",
       "  [180, 0.003293664442476165]],\n",
       " 14: [[30, 0.41670080000910364],\n",
       "  [60, 0.45378689943937617],\n",
       "  [90, 0.4799345253478957],\n",
       "  [120, 0.48104525316241276],\n",
       "  [150, 0.42925826680638346],\n",
       "  [180, 0.5769215751184661],\n",
       "  [210, 0.8249744373870858],\n",
       "  [240, 0.9173063857087477],\n",
       "  [270, 0.9479688814866076],\n",
       "  [300, 0.9941063420793372]],\n",
       " 12: [[30, 0.3793245176157243],\n",
       "  [60, 0.3347207658043423],\n",
       "  [90, 0.024994679192818992],\n",
       "  [120, 0.002798971565707081]]}"
      ]
     },
     "execution_count": 140,
     "metadata": {},
     "output_type": "execute_result"
    }
   ],
   "source": [
    "train_test_score(training_data, single_case)"
   ]
  }
 ],
 "metadata": {
  "kernelspec": {
   "display_name": "Python 3",
   "language": "python",
   "name": "python3"
  },
  "language_info": {
   "codemirror_mode": {
    "name": "ipython",
    "version": 3
   },
   "file_extension": ".py",
   "mimetype": "text/x-python",
   "name": "python",
   "nbconvert_exporter": "python",
   "pygments_lexer": "ipython3",
   "version": "3.6.5"
  }
 },
 "nbformat": 4,
 "nbformat_minor": 2
}
